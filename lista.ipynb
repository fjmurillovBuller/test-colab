{
  "nbformat": 4,
  "nbformat_minor": 0,
  "metadata": {
    "colab": {
      "name": "lista.ipynb",
      "provenance": [],
      "authorship_tag": "ABX9TyMWJllihvHsTBlT0MfDU/7M",
      "include_colab_link": true
    },
    "kernelspec": {
      "name": "python3",
      "display_name": "Python 3"
    }
  },
  "cells": [
    {
      "cell_type": "markdown",
      "metadata": {
        "id": "view-in-github",
        "colab_type": "text"
      },
      "source": [
        "<a href=\"https://colab.research.google.com/github/fjmurillovBuller/test-colab/blob/main/lista.ipynb\" target=\"_parent\"><img src=\"https://colab.research.google.com/assets/colab-badge.svg\" alt=\"Open In Colab\"/></a>"
      ]
    },
    {
      "cell_type": "code",
      "metadata": {
        "id": "uPXsq4Q10rWp"
      },
      "source": [
        ""
      ],
      "execution_count": null,
      "outputs": []
    },
    {
      "cell_type": "code",
      "metadata": {
        "colab": {
          "base_uri": "https://localhost:8080/"
        },
        "id": "wfpIwPHo02eW",
        "outputId": "cf4cf750-a471-49d3-cc9c-7cef21d6c382"
      },
      "source": [
        "  x = [(1, 2, 4), ('F', 'J', 'M')]\n",
        "  y = zip(*x)\n",
        "  z = list(y)\n",
        "  z"
      ],
      "execution_count": null,
      "outputs": [
        {
          "output_type": "execute_result",
          "data": {
            "text/plain": [
              "[(1, 'F'), (2, 'J'), (4, 'M')]"
            ]
          },
          "metadata": {
            "tags": []
          },
          "execution_count": 2
        }
      ]
    },
    {
      "cell_type": "markdown",
      "metadata": {
        "id": "nHDkiBZY0xvo"
      },
      "source": [
        "# **CALCULAR LA TRASPUESTA DE UNA MATRIZ**"
      ]
    }
  ]
}