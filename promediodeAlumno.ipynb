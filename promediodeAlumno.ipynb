{
  "nbformat": 4,
  "nbformat_minor": 0,
  "metadata": {
    "colab": {
      "name": "promediodeAlumno.ipynb",
      "provenance": [],
      "authorship_tag": "ABX9TyN0J6e2mBmLK19TWLV49dup",
      "include_colab_link": true
    },
    "kernelspec": {
      "name": "python3",
      "display_name": "Python 3"
    }
  },
  "cells": [
    {
      "cell_type": "markdown",
      "metadata": {
        "id": "view-in-github",
        "colab_type": "text"
      },
      "source": [
        "<a href=\"https://colab.research.google.com/github/fjmurillovBuller/test-colab/blob/main/promediodeAlumno.ipynb\" target=\"_parent\"><img src=\"https://colab.research.google.com/assets/colab-badge.svg\" alt=\"Open In Colab\"/></a>"
      ]
    },
    {
      "cell_type": "code",
      "metadata": {
        "id": "jLuBrh63NKKC"
      },
      "source": [
        ""
      ],
      "execution_count": null,
      "outputs": []
    },
    {
      "cell_type": "markdown",
      "metadata": {
        "id": "EkTFEK7wNLSm"
      },
      "source": [
        "# **Sacar el promedio de un alumno segun  de sus tres calificaciones**"
      ]
    },
    {
      "cell_type": "code",
      "metadata": {
        "id": "sjYWFk4oNT0i",
        "outputId": "b093659f-ce5f-4448-833e-6e78a84d5702",
        "colab": {
          "base_uri": "https://localhost:8080/"
        }
      },
      "source": [
        "nombre =\"fjmurillov\"\n",
        "calif1= 80\n",
        "calif2 = 90\n",
        "calif3 = 98\n",
        "promedio = (calif1+calif2+calif3)/3\n",
        "print('El alumno', nombre, 'tiene un promedio de : ', promedio)\n"
      ],
      "execution_count": 5,
      "outputs": [
        {
          "output_type": "stream",
          "text": [
            "El alumno fjmurillov tiene un promedio de :  89.33333333333333\n"
          ],
          "name": "stdout"
        }
      ]
    }
  ]
}